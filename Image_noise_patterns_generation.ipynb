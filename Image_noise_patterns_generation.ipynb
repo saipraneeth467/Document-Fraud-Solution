{
 "cells": [
  {
   "cell_type": "markdown",
   "id": "e076e016-f45b-478a-ba89-003a52ac58d2",
   "metadata": {},
   "source": [
    "****BITPLANES****"
   ]
  },
  {
   "cell_type": "code",
   "execution_count": 1,
   "id": "2a0e4b43-bdbd-475e-9f1b-6ee907743ba5",
   "metadata": {},
   "outputs": [
    {
     "name": "stdout",
     "output_type": "stream",
     "text": [
      "Saved bitplane_0.png\n",
      "Saved bitplane_1.png\n",
      "Saved bitplane_2.png\n",
      "Saved bitplane_3.png\n",
      "Saved bitplane_4.png\n",
      "Saved bitplane_5.png\n",
      "Saved bitplane_6.png\n",
      "Saved bitplane_7.png\n"
     ]
    }
   ],
   "source": [
    "import cv2\n",
    "import numpy as np\n",
    "\n",
    "# Load the grayscale image\n",
    "image = cv2.imread('temp_image.png', cv2.IMREAD_GRAYSCALE)\n",
    "\n",
    "# Function to extract bitplane\n",
    "def extract_bitplane(image, bit):\n",
    "    # Shift the bit to the least significant position and then mask it\n",
    "    return (image >> bit) & 1\n",
    "\n",
    "# Loop over all 8 bitplanes\n",
    "for i in range(8):\n",
    "    # Extract the ith bitplane\n",
    "    bitplane = extract_bitplane(image, i) * 255  # Scale bitplane for saving as an image\n",
    "    \n",
    "    # Save the bitplane as a PNG image\n",
    "    bitplane_filename = f'bitplane_{i}.png'\n",
    "    cv2.imwrite(bitplane_filename, bitplane)\n",
    "\n",
    "    print(f\"Saved {bitplane_filename}\")"
   ]
  },
  {
   "cell_type": "markdown",
   "id": "52b027f3-bdb7-405d-b9ca-304e79a712dc",
   "metadata": {},
   "source": [
    "****ELA****"
   ]
  },
  {
   "cell_type": "code",
   "execution_count": 2,
   "id": "465fe8af-7dfc-4e1c-94d0-3f66e00618f1",
   "metadata": {},
   "outputs": [],
   "source": [
    "from PIL import Image, ImageChops, ImageEnhance\n",
    "import cv2\n",
    "import io\n",
    "import os\n",
    "import numpy as np\n",
    "\n",
    "\n",
    "def convert_to_ela_image(path):\n",
    "    \n",
    "    quality = 90\n",
    "    ela_image_path = \"ela.png\"\n",
    "    \n",
    "    original_image = Image.open(path).convert(\"RGB\")\n",
    "\n",
    "    # resaving input image at the desired quality\n",
    "    jpeg_image_io = io.BytesIO()\n",
    "    original_image.save(jpeg_image_io, format='JPEG', quality=quality)\n",
    "    jpeg_image_io.seek(0)\n",
    "    resaved_image = Image.open(jpeg_image_io)\n",
    "\n",
    "    # pixel difference between original and resaved image\n",
    "    ela_image = ImageChops.difference(original_image, resaved_image)\n",
    "\n",
    "    # scaling factors are calculated from pixel extremas\n",
    "    extrema = ela_image.getextrema()\n",
    "    max_difference = max([pix[1] for pix in extrema])\n",
    "    if max_difference == 0:\n",
    "        max_difference = 1\n",
    "    scale = 350.0 / max_difference\n",
    "\n",
    "    # enhancing elaimage to brighten the pixels\n",
    "    ela_image = ImageEnhance.Brightness(ela_image).enhance(scale)\n",
    "\n",
    "    ela_image.save(ela_image_path)\n",
    "    return ela_image\n",
    "\n",
    "image_path = \"temp_image.png\"\n",
    "ela = convert_to_ela_image(image_path)"
   ]
  },
  {
   "cell_type": "markdown",
   "id": "47bdde93-93f5-44c6-b857-7c93a7b1c2a8",
   "metadata": {},
   "source": [
    "****PRNU****"
   ]
  },
  {
   "cell_type": "code",
   "execution_count": 3,
   "id": "de964dbe-9e01-4fac-9f1c-0ab25bfc15b8",
   "metadata": {},
   "outputs": [],
   "source": [
    "def generate_PRNU_image(image_path):\n",
    "\n",
    "    # Load the image\n",
    "    image = cv2.imread(image_path, cv2.IMREAD_GRAYSCALE)\n",
    "    denoised_image = cv2.fastNlMeansDenoising(image, None, h=10, templateWindowSize=3, searchWindowSize=5)\n",
    "    prnu = image - denoised_image\n",
    "    cv2.imwrite(\"prnu.png\", prnu)\n",
    "    return prnu\n",
    "\n",
    "image_path = \"temp_image.png\"\n",
    "prnu = generate_PRNU_image(image_path)"
   ]
  },
  {
   "cell_type": "code",
   "execution_count": null,
   "id": "eef6c7bf-87a7-415a-9eae-4ec3901623be",
   "metadata": {},
   "outputs": [],
   "source": []
  }
 ],
 "metadata": {
  "kernelspec": {
   "display_name": "Python 3 (ipykernel)",
   "language": "python",
   "name": "python3"
  },
  "language_info": {
   "codemirror_mode": {
    "name": "ipython",
    "version": 3
   },
   "file_extension": ".py",
   "mimetype": "text/x-python",
   "name": "python",
   "nbconvert_exporter": "python",
   "pygments_lexer": "ipython3",
   "version": "3.8.10"
  }
 },
 "nbformat": 4,
 "nbformat_minor": 5
}
